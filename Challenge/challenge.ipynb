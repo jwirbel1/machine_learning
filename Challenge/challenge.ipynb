{
 "cells": [
  {
   "cell_type": "code",
   "execution_count": 1,
   "metadata": {
    "scrolled": true
   },
   "outputs": [],
   "source": [
    "import numpy as np\n",
    "from tensorflow import keras\n",
    "from PIL import Image\n",
    "import tensorflow as tf"
   ]
  },
  {
   "cell_type": "code",
   "execution_count": 2,
   "metadata": {},
   "outputs": [
    {
     "name": "stderr",
     "output_type": "stream",
     "text": [
      "2022-09-26 19:45:07.298846: I tensorflow/stream_executor/cuda/cuda_gpu_executor.cc:975] successful NUMA node read from SysFS had negative value (-1), but there must be at least one NUMA node, so returning NUMA node zero\n",
      "2022-09-26 19:45:07.398531: I tensorflow/stream_executor/cuda/cuda_gpu_executor.cc:975] successful NUMA node read from SysFS had negative value (-1), but there must be at least one NUMA node, so returning NUMA node zero\n",
      "2022-09-26 19:45:07.398744: I tensorflow/stream_executor/cuda/cuda_gpu_executor.cc:975] successful NUMA node read from SysFS had negative value (-1), but there must be at least one NUMA node, so returning NUMA node zero\n"
     ]
    }
   ],
   "source": [
    "gpu_devices = tf.config.experimental.list_physical_devices('GPU')\n",
    "for device in gpu_devices:\n",
    "    tf.config.experimental.set_memory_growth(device, True)"
   ]
  },
  {
   "cell_type": "code",
   "execution_count": 3,
   "metadata": {},
   "outputs": [],
   "source": [
    "input_dim = (96, 96, 3)\n",
    "batch_size = 96\n",
    "classes = 21\n",
    "epochs = 50"
   ]
  },
  {
   "cell_type": "code",
   "execution_count": 4,
   "metadata": {},
   "outputs": [
    {
     "name": "stderr",
     "output_type": "stream",
     "text": [
      "2022-09-26 19:45:16.776808: I tensorflow/core/platform/cpu_feature_guard.cc:193] This TensorFlow binary is optimized with oneAPI Deep Neural Network Library (oneDNN) to use the following CPU instructions in performance-critical operations:  SSE3 SSE4.1 SSE4.2 AVX AVX2 FMA\n",
      "To enable them in other operations, rebuild TensorFlow with the appropriate compiler flags.\n",
      "2022-09-26 19:45:16.777349: I tensorflow/stream_executor/cuda/cuda_gpu_executor.cc:975] successful NUMA node read from SysFS had negative value (-1), but there must be at least one NUMA node, so returning NUMA node zero\n",
      "2022-09-26 19:45:16.777560: I tensorflow/stream_executor/cuda/cuda_gpu_executor.cc:975] successful NUMA node read from SysFS had negative value (-1), but there must be at least one NUMA node, so returning NUMA node zero\n",
      "2022-09-26 19:45:16.777721: I tensorflow/stream_executor/cuda/cuda_gpu_executor.cc:975] successful NUMA node read from SysFS had negative value (-1), but there must be at least one NUMA node, so returning NUMA node zero\n",
      "2022-09-26 19:45:17.710808: I tensorflow/stream_executor/cuda/cuda_gpu_executor.cc:975] successful NUMA node read from SysFS had negative value (-1), but there must be at least one NUMA node, so returning NUMA node zero\n",
      "2022-09-26 19:45:17.710997: I tensorflow/stream_executor/cuda/cuda_gpu_executor.cc:975] successful NUMA node read from SysFS had negative value (-1), but there must be at least one NUMA node, so returning NUMA node zero\n",
      "2022-09-26 19:45:17.711156: I tensorflow/stream_executor/cuda/cuda_gpu_executor.cc:975] successful NUMA node read from SysFS had negative value (-1), but there must be at least one NUMA node, so returning NUMA node zero\n",
      "2022-09-26 19:45:17.711308: I tensorflow/core/common_runtime/gpu/gpu_device.cc:1532] Created device /job:localhost/replica:0/task:0/device:GPU:0 with 4666 MB memory:  -> device: 0, name: NVIDIA GeForce RTX 2060, pci bus id: 0000:08:00.0, compute capability: 7.5\n"
     ]
    }
   ],
   "source": [
    "# Create a simple CNN Model\n",
    "model = keras.models.Sequential()\n",
    "model.add(keras.layers.Conv2D(128, kernel_size=3, activation='relu', padding='same', input_shape=input_dim))\n",
    "model.add(keras.layers.Conv2D(128, kernel_size=3, activation='relu', padding='same'))\n",
    "model.add(keras.layers.MaxPool2D(pool_size=(2, 2), strides=(2, 2), padding='same'))         \n",
    "model.add(keras.layers.Conv2D(256, kernel_size=3, activation='relu', padding='same'))\n",
    "model.add(keras.layers.Conv2D(256, kernel_size=3, activation='relu', padding='same'))\n",
    "model.add(keras.layers.Conv2D(256, kernel_size=3, activation='relu', padding='same'))\n",
    "model.add(keras.layers.GlobalAveragePooling2D())\n",
    "model.add(keras.layers.Dropout(0.4))\n",
    "model.add(keras.layers.Dense(21, activation='softmax'))"
   ]
  },
  {
   "cell_type": "code",
   "execution_count": 5,
   "metadata": {},
   "outputs": [
    {
     "name": "stdout",
     "output_type": "stream",
     "text": [
      "Model: \"sequential\"\n",
      "_________________________________________________________________\n",
      " Layer (type)                Output Shape              Param #   \n",
      "=================================================================\n",
      " conv2d (Conv2D)             (None, 96, 96, 128)       3584      \n",
      "                                                                 \n",
      " conv2d_1 (Conv2D)           (None, 96, 96, 128)       147584    \n",
      "                                                                 \n",
      " max_pooling2d (MaxPooling2D  (None, 48, 48, 128)      0         \n",
      " )                                                               \n",
      "                                                                 \n",
      " conv2d_2 (Conv2D)           (None, 48, 48, 256)       295168    \n",
      "                                                                 \n",
      " conv2d_3 (Conv2D)           (None, 48, 48, 256)       590080    \n",
      "                                                                 \n",
      " conv2d_4 (Conv2D)           (None, 48, 48, 256)       590080    \n",
      "                                                                 \n",
      " global_average_pooling2d (G  (None, 256)              0         \n",
      " lobalAveragePooling2D)                                          \n",
      "                                                                 \n",
      " dropout (Dropout)           (None, 256)               0         \n",
      "                                                                 \n",
      " dense (Dense)               (None, 21)                5397      \n",
      "                                                                 \n",
      "=================================================================\n",
      "Total params: 1,631,893\n",
      "Trainable params: 1,631,893\n",
      "Non-trainable params: 0\n",
      "_________________________________________________________________\n"
     ]
    }
   ],
   "source": [
    "# Show architecture!\n",
    "model.summary()"
   ]
  },
  {
   "cell_type": "code",
   "execution_count": 6,
   "metadata": {},
   "outputs": [
    {
     "data": {
      "image/png": "[encoded data removed]",
      "text/plain": [
       "<PIL.Image.Image image mode=RGB size=96x96>"
      ]
     },
     "execution_count": 6,
     "metadata": {},
     "output_type": "execute_result"
    }
   ],
   "source": [
    "# Load the small dataset and shuffle order\n",
    "with np.load('./train_small.npz') as f:\n",
    "    X = f['X'] # Load input images\n",
    "    y = f['y'] # Load Labels\n",
    "    \n",
    "    ind = np.arange(X.shape[0]) # Create Index\n",
    "    np.random.shuffle(ind) # Shuffle Index\n",
    "    X = X[ind,] # Shuffle X\n",
    "    y = keras.utils.to_categorical(y[ind,]) # Shuffle X and create dummy variables\n",
    "# Show first image\n",
    "Image.fromarray(X[0], 'RGB')"
   ]
  },
  {
   "cell_type": "code",
   "execution_count": 7,
   "metadata": {},
   "outputs": [],
   "source": [
    "# Compile the model\n",
    "model.compile(optimizer='adam',\n",
    "    loss='categorical_crossentropy',\n",
    "    metrics=['categorical_accuracy'])"
   ]
  },
  {
   "cell_type": "code",
   "execution_count": null,
   "metadata": {
    "scrolled": false
   },
   "outputs": [
    {
     "name": "stdout",
     "output_type": "stream",
     "text": [
      "Epoch 1/50\n"
     ]
    },
    {
     "name": "stderr",
     "output_type": "stream",
     "text": [
      "2022-09-26 19:45:30.547492: W tensorflow/core/framework/cpu_allocator_impl.cc:82] Allocation of 209018880 exceeds 10% of free system memory.\n",
      "2022-09-26 19:45:30.621787: W tensorflow/core/framework/cpu_allocator_impl.cc:82] Allocation of 209018880 exceeds 10% of free system memory.\n",
      "2022-09-26 19:45:32.231806: I tensorflow/stream_executor/cuda/cuda_dnn.cc:384] Loaded cuDNN version 8200\n",
      "2022-09-26 19:45:35.061290: W tensorflow/core/common_runtime/bfc_allocator.cc:290] Allocator (GPU_0_bfc) ran out of memory trying to allocate 2.85GiB with freed_by_count=0. The caller indicates that this is not a failure, but this may mean that there could be performance gains if more memory were available.\n",
      "2022-09-26 19:45:35.908868: W tensorflow/core/common_runtime/bfc_allocator.cc:290] Allocator (GPU_0_bfc) ran out of memory trying to allocate 2.29GiB with freed_by_count=0. The caller indicates that this is not a failure, but this may mean that there could be performance gains if more memory were available.\n",
      "2022-09-26 19:45:36.282442: W tensorflow/core/common_runtime/bfc_allocator.cc:290] Allocator (GPU_0_bfc) ran out of memory trying to allocate 1.92GiB with freed_by_count=0. The caller indicates that this is not a failure, but this may mean that there could be performance gains if more memory were available.\n",
      "2022-09-26 19:45:36.282495: W tensorflow/core/kernels/conv_ops_gpu.cc:336] None of the algorithms provided by cuDNN frontend heuristics worked; trying fallback algorithms.  Conv: batch: 96\n",
      "in_depths: 128\n",
      "out_depths: 128\n",
      "in: 96\n",
      "in: 96\n",
      "data_format: 1\n",
      "filter: 3\n",
      "filter: 3\n",
      "filter: 128\n",
      "dilation: 1\n",
      "dilation: 1\n",
      "stride: 1\n",
      "stride: 1\n",
      "padding: 1\n",
      "padding: 1\n",
      "dtype: DT_FLOAT\n",
      "group_count: 1\n",
      "device_identifier: \"NVIDIA GeForce RTX 2060 sm_7.5 with 6222577664B RAM and 30 cores\"\n",
      "version: 1\n",
      "\n"
     ]
    },
    {
     "name": "stdout",
     "output_type": "stream",
     "text": [
      "78/79 [============================>.] - ETA: 0s - loss: 3.5173 - categorical_accuracy: 0.0589"
     ]
    },
    {
     "name": "stderr",
     "output_type": "stream",
     "text": [
      "2022-09-26 19:46:08.104934: W tensorflow/core/common_runtime/bfc_allocator.cc:290] Allocator (GPU_0_bfc) ran out of memory trying to allocate 2.66GiB with freed_by_count=0. The caller indicates that this is not a failure, but this may mean that there could be performance gains if more memory were available.\n",
      "2022-09-26 19:46:08.218750: W tensorflow/core/common_runtime/bfc_allocator.cc:360] Garbage collection: deallocate free memory regions (i.e., allocations) so that we can re-allocate a larger region to avoid OOM due to memory fragmentation. If you see this message frequently, you are running near the threshold of the available device memory and re-allocation may incur great performance overhead. You may try smaller batch sizes to observe the performance impact. Set TF_ENABLE_GPU_GARBAGE_COLLECTION=false if you'd like to disable this feature.\n"
     ]
    },
    {
     "name": "stdout",
     "output_type": "stream",
     "text": [
      "\b\b\b\b\b\b\b\b\b\b\b\b\b\b\b\b\b\b\b\b\b\b\b\b\b\b\b\b\b\b\b\b\b\b\b\b\b\b\b\b\b\b\b\b\b\b\b\b\b\b\b\b\b\b\b\b\b\b\b\b\b\b\b\b\b\b\b\b\b\b\b\b\b\b\b\b\b\b\b\b\b\b\b\b\b\b\b\b\b\b\b\b\b\b\r",
      "79/79 [==============================] - ETA: 0s - loss: 3.5119 - categorical_accuracy: 0.0591"
     ]
    },
    {
     "name": "stderr",
     "output_type": "stream",
     "text": [
      "2022-09-26 19:46:08.626411: W tensorflow/core/framework/cpu_allocator_impl.cc:82] Allocation of 52254720 exceeds 10% of free system memory.\n",
      "2022-09-26 19:46:08.655118: W tensorflow/core/framework/cpu_allocator_impl.cc:82] Allocation of 52254720 exceeds 10% of free system memory.\n"
     ]
    },
    {
     "name": "stdout",
     "output_type": "stream",
     "text": [
      "79/79 [==============================] - 41s 426ms/step - loss: 3.5119 - categorical_accuracy: 0.0591 - val_loss: 2.9630 - val_categorical_accuracy: 0.0958\n",
      "Epoch 2/50\n"
     ]
    },
    {
     "name": "stderr",
     "output_type": "stream",
     "text": [
      "2022-09-26 19:46:11.136314: W tensorflow/core/common_runtime/bfc_allocator.cc:360] Garbage collection: deallocate free memory regions (i.e., allocations) so that we can re-allocate a larger region to avoid OOM due to memory fragmentation. If you see this message frequently, you are running near the threshold of the available device memory and re-allocation may incur great performance overhead. You may try smaller batch sizes to observe the performance impact. Set TF_ENABLE_GPU_GARBAGE_COLLECTION=false if you'd like to disable this feature.\n"
     ]
    },
    {
     "name": "stdout",
     "output_type": "stream",
     "text": [
      "79/79 [==============================] - 33s 414ms/step - loss: 2.8788 - categorical_accuracy: 0.1221 - val_loss: 2.7817 - val_categorical_accuracy: 0.1434\n",
      "Epoch 3/50\n",
      "79/79 [==============================] - 33s 417ms/step - loss: 2.7642 - categorical_accuracy: 0.1538 - val_loss: 2.6376 - val_categorical_accuracy: 0.1921\n",
      "Epoch 4/50\n",
      "79/79 [==============================] - 33s 417ms/step - loss: 2.6462 - categorical_accuracy: 0.1804 - val_loss: 2.5683 - val_categorical_accuracy: 0.1989\n",
      "Epoch 5/50\n",
      "79/79 [==============================] - 33s 417ms/step - loss: 2.5597 - categorical_accuracy: 0.2011 - val_loss: 2.4995 - val_categorical_accuracy: 0.2370\n",
      "Epoch 6/50\n",
      "79/79 [==============================] - 33s 417ms/step - loss: 2.4827 - categorical_accuracy: 0.2222 - val_loss: 2.4101 - val_categorical_accuracy: 0.2561\n",
      "Epoch 7/50\n",
      "79/79 [==============================] - 33s 417ms/step - loss: 2.4027 - categorical_accuracy: 0.2466 - val_loss: 2.3984 - val_categorical_accuracy: 0.2545\n",
      "Epoch 8/50\n",
      "79/79 [==============================] - 33s 417ms/step - loss: 2.3550 - categorical_accuracy: 0.2594 - val_loss: 2.3313 - val_categorical_accuracy: 0.2746\n",
      "Epoch 9/50\n",
      "79/79 [==============================] - 33s 417ms/step - loss: 2.2499 - categorical_accuracy: 0.2955 - val_loss: 2.1800 - val_categorical_accuracy: 0.3153\n",
      "Epoch 10/50\n",
      "79/79 [==============================] - 33s 417ms/step - loss: 2.1888 - categorical_accuracy: 0.3025 - val_loss: 2.1927 - val_categorical_accuracy: 0.3101\n",
      "Epoch 11/50\n",
      "79/79 [==============================] - 33s 417ms/step - loss: 2.1003 - categorical_accuracy: 0.3284 - val_loss: 2.0732 - val_categorical_accuracy: 0.3434\n",
      "Epoch 12/50\n",
      "79/79 [==============================] - 33s 417ms/step - loss: 2.0780 - categorical_accuracy: 0.3353 - val_loss: 2.0650 - val_categorical_accuracy: 0.3529\n",
      "Epoch 13/50\n",
      "79/79 [==============================] - 33s 418ms/step - loss: 1.9965 - categorical_accuracy: 0.3570 - val_loss: 1.9951 - val_categorical_accuracy: 0.3624\n",
      "Epoch 14/50\n",
      "32/79 [===========>..................] - ETA: 18s - loss: 1.9391 - categorical_accuracy: 0.3688"
     ]
    }
   ],
   "source": [
    "# Train\n",
    "results = model.fit(x=X, y=y, \n",
    "              batch_size=batch_size, \n",
    "              epochs=epochs, \n",
    "              validation_split=0.2, \n",
    "              shuffle=True)"
   ]
  },
  {
   "cell_type": "code",
   "execution_count": null,
   "metadata": {},
   "outputs": [],
   "source": [
    "# Save model\n",
    "model.save('./my_model')"
   ]
  },
  {
   "cell_type": "code",
   "execution_count": null,
   "metadata": {},
   "outputs": [],
   "source": [
    "# Diese Zelle muss von mir ausgeführt werden können!\n",
    "# Es müssen mindestens loss und categorical_accuracy angezeigt werden\n",
    "\n",
    "model = keras.models.load_model('./my_model')\n",
    "with np.load('./test.npz') as f:\n",
    "    X_test = f['X']\n",
    "    y_test = keras.utils.to_categorical(f['y'])\n",
    "results = model.evaluate(X_test, y_test, batch_size=32)"
   ]
  },
  {
   "cell_type": "code",
   "execution_count": null,
   "metadata": {},
   "outputs": [],
   "source": []
  }
 ],
 "metadata": {
  "kernelspec": {
   "display_name": "Python 3 (ipykernel)",
   "language": "python",
   "name": "python3"
  },
  "language_info": {
   "codemirror_mode": {
    "name": "ipython",
    "version": 3
   },
   "file_extension": ".py",
   "mimetype": "text/x-python",
   "name": "python",
   "nbconvert_exporter": "python",
   "pygments_lexer": "ipython3",
   "version": "3.8.10"
  }
 },
 "nbformat": 4,
 "nbformat_minor": 2
}
