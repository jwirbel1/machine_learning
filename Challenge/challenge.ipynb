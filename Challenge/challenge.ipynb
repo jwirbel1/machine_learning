{
 "cells": [
  {
   "cell_type": "code",
   "execution_count": 2,
   "metadata": {
    "scrolled": true
   },
   "outputs": [],
   "source": [
    "import numpy as np\n",
    "from tensorflow import keras\n",
    "from PIL import Image"
   ]
  },
  {
   "cell_type": "code",
   "execution_count": 3,
   "metadata": {},
   "outputs": [],
   "source": [
    "input_dim = (96, 96, 3)\n",
    "batch_size = 64\n",
    "classes = 21\n",
    "epochs = 50"
   ]
  },
  {
   "cell_type": "code",
   "execution_count": 4,
   "metadata": {},
   "outputs": [
    {
     "name": "stdout",
     "output_type": "stream",
     "text": [
      "WARNING:tensorflow:From /home/dobby/.local/lib/python3.6/site-packages/tensorflow/python/ops/init_ops.py:1251: calling VarianceScaling.__init__ (from tensorflow.python.ops.init_ops) with dtype is deprecated and will be removed in a future version.\n",
      "Instructions for updating:\n",
      "Call initializer instance with the dtype argument instead of passing it to the constructor\n"
     ]
    }
   ],
   "source": [
    "# Create a simple CNN Model\n",
    "model = keras.models.Sequential()\n",
    "model.add(keras.layers.Conv2D(128, kernel_size=3, activation='relu', padding='same', input_shape=input_dim))\n",
    "model.add(keras.layers.Conv2D(128, kernel_size=3, activation='relu', padding='same'))\n",
    "model.add(keras.layers.MaxPool2D(pool_size=(2, 2), strides=(2, 2), padding='same'))         \n",
    "model.add(keras.layers.Conv2D(256, kernel_size=3, activation='relu', padding='same'))\n",
    "model.add(keras.layers.Conv2D(256, kernel_size=3, activation='relu', padding='same'))\n",
    "model.add(keras.layers.Conv2D(256, kernel_size=3, activation='relu', padding='same'))\n",
    "model.add(keras.layers.GlobalAveragePooling2D())\n",
    "model.add(keras.layers.Dropout(0.4))\n",
    "model.add(keras.layers.Dense(21, activation='softmax'))"
   ]
  },
  {
   "cell_type": "code",
   "execution_count": 5,
   "metadata": {},
   "outputs": [
    {
     "name": "stdout",
     "output_type": "stream",
     "text": [
      "Model: \"sequential\"\n",
      "_________________________________________________________________\n",
      "Layer (type)                 Output Shape              Param #   \n",
      "=================================================================\n",
      "conv2d (Conv2D)              (None, 96, 96, 128)       3584      \n",
      "_________________________________________________________________\n",
      "conv2d_1 (Conv2D)            (None, 96, 96, 128)       147584    \n",
      "_________________________________________________________________\n",
      "max_pooling2d (MaxPooling2D) (None, 48, 48, 128)       0         \n",
      "_________________________________________________________________\n",
      "conv2d_2 (Conv2D)            (None, 48, 48, 256)       295168    \n",
      "_________________________________________________________________\n",
      "conv2d_3 (Conv2D)            (None, 48, 48, 256)       590080    \n",
      "_________________________________________________________________\n",
      "conv2d_4 (Conv2D)            (None, 48, 48, 256)       590080    \n",
      "_________________________________________________________________\n",
      "global_average_pooling2d (Gl (None, 256)               0         \n",
      "_________________________________________________________________\n",
      "dropout (Dropout)            (None, 256)               0         \n",
      "_________________________________________________________________\n",
      "dense (Dense)                (None, 21)                5397      \n",
      "=================================================================\n",
      "Total params: 1,631,893\n",
      "Trainable params: 1,631,893\n",
      "Non-trainable params: 0\n",
      "_________________________________________________________________\n"
     ]
    }
   ],
   "source": [
    "# Show architecture!\n",
    "model.summary()"
   ]
  },
  {
   "cell_type": "code",
   "execution_count": 6,
   "metadata": {},
   "outputs": [
    {
     "data": {
      "image/png": "[encoded data removed]",
      "text/plain": [
       "<PIL.Image.Image image mode=RGB size=96x96 at 0x7F586F839128>"
      ]
     },
     "execution_count": 6,
     "metadata": {},
     "output_type": "execute_result"
    }
   ],
   "source": [
    "# Load the small dataset and shuffle order\n",
    "with np.load('./train_small.npz') as f:\n",
    "    X = f['X'] # Load input images\n",
    "    y = f['y'] # Load Labels\n",
    "    \n",
    "    ind = np.arange(X.shape[0]) # Create Index\n",
    "    np.random.shuffle(ind) # Shuffle Index\n",
    "    X = X[ind,] # Shuffle X\n",
    "    y = keras.utils.to_categorical(y[ind,]) # Shuffle X and create dummy variables\n",
    "# Show first image\n",
    "Image.fromarray(X[0], 'RGB')"
   ]
  },
  {
   "cell_type": "code",
   "execution_count": 7,
   "metadata": {},
   "outputs": [],
   "source": [
    "# Compile the model\n",
    "model.compile(optimizer='adam',\n",
    "    loss='categorical_crossentropy',\n",
    "    metrics=['categorical_accuracy'])"
   ]
  },
  {
   "cell_type": "code",
   "execution_count": 8,
   "metadata": {
    "scrolled": false
   },
   "outputs": [
    {
     "name": "stdout",
     "output_type": "stream",
     "text": [
      "Train on 7560 samples, validate on 1890 samples\n",
      "Epoch 1/50\n",
      "7560/7560 [==============================] - 16s 2ms/sample - loss: 3.2336 - categorical_accuracy: 0.0675 - val_loss: 2.9531 - val_categorical_accuracy: 0.0979\n",
      "Epoch 2/50\n",
      "7560/7560 [==============================] - 12s 2ms/sample - loss: 2.8558 - categorical_accuracy: 0.1140 - val_loss: 2.7342 - val_categorical_accuracy: 0.1386\n",
      "Epoch 3/50\n",
      "7560/7560 [==============================] - 12s 2ms/sample - loss: 2.7244 - categorical_accuracy: 0.1497 - val_loss: 2.6518 - val_categorical_accuracy: 0.1693\n",
      "Epoch 4/50\n",
      "7560/7560 [==============================] - 12s 2ms/sample - loss: 2.6391 - categorical_accuracy: 0.1786 - val_loss: 2.5150 - val_categorical_accuracy: 0.2196\n",
      "Epoch 5/50\n",
      "7560/7560 [==============================] - 12s 2ms/sample - loss: 2.5596 - categorical_accuracy: 0.1968 - val_loss: 2.4868 - val_categorical_accuracy: 0.2323\n",
      "Epoch 6/50\n",
      "7560/7560 [==============================] - 12s 2ms/sample - loss: 2.4945 - categorical_accuracy: 0.2228 - val_loss: 3.5576 - val_categorical_accuracy: 0.1603\n",
      "Epoch 7/50\n",
      "7560/7560 [==============================] - 12s 2ms/sample - loss: 2.5124 - categorical_accuracy: 0.2217 - val_loss: 2.5273 - val_categorical_accuracy: 0.2323\n",
      "Epoch 8/50\n",
      "7560/7560 [==============================] - 12s 2ms/sample - loss: 2.3903 - categorical_accuracy: 0.2560 - val_loss: 2.3247 - val_categorical_accuracy: 0.2672\n",
      "Epoch 9/50\n",
      "7560/7560 [==============================] - 12s 2ms/sample - loss: 2.3092 - categorical_accuracy: 0.2729 - val_loss: 2.3417 - val_categorical_accuracy: 0.2667\n",
      "Epoch 10/50\n",
      "7560/7560 [==============================] - 12s 2ms/sample - loss: 2.2560 - categorical_accuracy: 0.2824 - val_loss: 2.2395 - val_categorical_accuracy: 0.2958\n",
      "Epoch 11/50\n",
      "7560/7560 [==============================] - 12s 2ms/sample - loss: 2.1701 - categorical_accuracy: 0.3104 - val_loss: 2.3732 - val_categorical_accuracy: 0.2942\n",
      "Epoch 12/50\n",
      "7560/7560 [==============================] - 12s 2ms/sample - loss: 2.1255 - categorical_accuracy: 0.3253 - val_loss: 2.1862 - val_categorical_accuracy: 0.3048\n",
      "Epoch 13/50\n",
      "7560/7560 [==============================] - 12s 2ms/sample - loss: 2.0616 - categorical_accuracy: 0.3435 - val_loss: 2.0733 - val_categorical_accuracy: 0.3376\n",
      "Epoch 14/50\n",
      "7560/7560 [==============================] - 12s 2ms/sample - loss: 1.9952 - categorical_accuracy: 0.3619 - val_loss: 2.0010 - val_categorical_accuracy: 0.3667\n",
      "Epoch 15/50\n",
      "7560/7560 [==============================] - 12s 2ms/sample - loss: 1.9806 - categorical_accuracy: 0.3644 - val_loss: 2.0939 - val_categorical_accuracy: 0.3434\n",
      "Epoch 16/50\n",
      "7560/7560 [==============================] - 12s 2ms/sample - loss: 1.9193 - categorical_accuracy: 0.3800 - val_loss: 1.9497 - val_categorical_accuracy: 0.3772\n",
      "Epoch 17/50\n",
      "7560/7560 [==============================] - 12s 2ms/sample - loss: 1.8636 - categorical_accuracy: 0.3999 - val_loss: 1.9892 - val_categorical_accuracy: 0.3831\n",
      "Epoch 18/50\n",
      "7560/7560 [==============================] - 12s 2ms/sample - loss: 1.8017 - categorical_accuracy: 0.4230 - val_loss: 1.9401 - val_categorical_accuracy: 0.4122\n",
      "Epoch 19/50\n",
      "7560/7560 [==============================] - 12s 2ms/sample - loss: 1.7598 - categorical_accuracy: 0.4271 - val_loss: 1.9296 - val_categorical_accuracy: 0.4063\n",
      "Epoch 20/50\n",
      "7560/7560 [==============================] - 12s 2ms/sample - loss: 1.6793 - categorical_accuracy: 0.4534 - val_loss: 1.9366 - val_categorical_accuracy: 0.4159\n",
      "Epoch 21/50\n",
      "7560/7560 [==============================] - 12s 2ms/sample - loss: 1.6739 - categorical_accuracy: 0.4571 - val_loss: 2.0779 - val_categorical_accuracy: 0.3942\n",
      "Epoch 22/50\n",
      "7560/7560 [==============================] - 12s 2ms/sample - loss: 1.5947 - categorical_accuracy: 0.4811 - val_loss: 1.8732 - val_categorical_accuracy: 0.4317\n",
      "Epoch 23/50\n",
      "7560/7560 [==============================] - 12s 2ms/sample - loss: 1.5436 - categorical_accuracy: 0.5019 - val_loss: 1.8726 - val_categorical_accuracy: 0.4407\n",
      "Epoch 24/50\n",
      "7560/7560 [==============================] - 12s 2ms/sample - loss: 1.4885 - categorical_accuracy: 0.5124 - val_loss: 1.8619 - val_categorical_accuracy: 0.4476\n",
      "Epoch 25/50\n",
      "7560/7560 [==============================] - 12s 2ms/sample - loss: 1.4402 - categorical_accuracy: 0.5262 - val_loss: 1.9345 - val_categorical_accuracy: 0.4026\n",
      "Epoch 26/50\n",
      "7560/7560 [==============================] - 12s 2ms/sample - loss: 1.4080 - categorical_accuracy: 0.5333 - val_loss: 1.9094 - val_categorical_accuracy: 0.4397\n",
      "Epoch 27/50\n",
      "7560/7560 [==============================] - 12s 2ms/sample - loss: 1.3484 - categorical_accuracy: 0.5532 - val_loss: 2.0106 - val_categorical_accuracy: 0.4291\n",
      "Epoch 28/50\n",
      "7560/7560 [==============================] - 12s 2ms/sample - loss: 1.2852 - categorical_accuracy: 0.5774 - val_loss: 1.9265 - val_categorical_accuracy: 0.4540\n",
      "Epoch 29/50\n",
      "7560/7560 [==============================] - 12s 2ms/sample - loss: 1.2271 - categorical_accuracy: 0.5909 - val_loss: 1.9646 - val_categorical_accuracy: 0.4481\n",
      "Epoch 30/50\n",
      "7560/7560 [==============================] - 12s 2ms/sample - loss: 1.1603 - categorical_accuracy: 0.6111 - val_loss: 2.1679 - val_categorical_accuracy: 0.4222\n",
      "Epoch 31/50\n",
      "7560/7560 [==============================] - 12s 2ms/sample - loss: 1.0797 - categorical_accuracy: 0.6380 - val_loss: 2.1458 - val_categorical_accuracy: 0.4524\n",
      "Epoch 32/50\n",
      "7560/7560 [==============================] - 12s 2ms/sample - loss: 1.0613 - categorical_accuracy: 0.6439 - val_loss: 2.2689 - val_categorical_accuracy: 0.4106\n",
      "Epoch 33/50\n",
      "7560/7560 [==============================] - 12s 2ms/sample - loss: 0.9667 - categorical_accuracy: 0.6762 - val_loss: 2.0739 - val_categorical_accuracy: 0.4455\n",
      "Epoch 34/50\n",
      "7560/7560 [==============================] - 12s 2ms/sample - loss: 0.9000 - categorical_accuracy: 0.6983 - val_loss: 2.0887 - val_categorical_accuracy: 0.4624\n",
      "Epoch 35/50\n",
      "7560/7560 [==============================] - 12s 2ms/sample - loss: 0.8922 - categorical_accuracy: 0.7028 - val_loss: 2.0870 - val_categorical_accuracy: 0.4698\n",
      "Epoch 36/50\n",
      "7560/7560 [==============================] - 12s 2ms/sample - loss: 0.7814 - categorical_accuracy: 0.7365 - val_loss: 2.3532 - val_categorical_accuracy: 0.4402\n",
      "Epoch 37/50\n",
      "7560/7560 [==============================] - 12s 2ms/sample - loss: 0.7367 - categorical_accuracy: 0.7516 - val_loss: 2.3245 - val_categorical_accuracy: 0.4386\n",
      "Epoch 38/50\n",
      "7560/7560 [==============================] - 12s 2ms/sample - loss: 0.7231 - categorical_accuracy: 0.7530 - val_loss: 2.3388 - val_categorical_accuracy: 0.4503\n",
      "Epoch 39/50\n",
      "7560/7560 [==============================] - 12s 2ms/sample - loss: 0.6143 - categorical_accuracy: 0.7939 - val_loss: 2.6439 - val_categorical_accuracy: 0.4349\n",
      "Epoch 40/50\n",
      "7560/7560 [==============================] - 12s 2ms/sample - loss: 0.6296 - categorical_accuracy: 0.7866 - val_loss: 2.8074 - val_categorical_accuracy: 0.3979\n",
      "Epoch 41/50\n",
      "7560/7560 [==============================] - 12s 2ms/sample - loss: 0.5886 - categorical_accuracy: 0.8044 - val_loss: 2.6791 - val_categorical_accuracy: 0.4434\n",
      "Epoch 42/50\n",
      "7560/7560 [==============================] - 12s 2ms/sample - loss: 0.5960 - categorical_accuracy: 0.8015 - val_loss: 2.7182 - val_categorical_accuracy: 0.4481\n",
      "Epoch 43/50\n",
      "7560/7560 [==============================] - 12s 2ms/sample - loss: 0.5268 - categorical_accuracy: 0.8225 - val_loss: 2.4512 - val_categorical_accuracy: 0.4434\n",
      "Epoch 44/50\n",
      "7560/7560 [==============================] - 12s 2ms/sample - loss: 0.4531 - categorical_accuracy: 0.8513 - val_loss: 2.8442 - val_categorical_accuracy: 0.4381\n",
      "Epoch 45/50\n",
      "7560/7560 [==============================] - 12s 2ms/sample - loss: 0.4322 - categorical_accuracy: 0.8607 - val_loss: 2.9418 - val_categorical_accuracy: 0.4529\n",
      "Epoch 46/50\n",
      "7560/7560 [==============================] - 12s 2ms/sample - loss: 0.4165 - categorical_accuracy: 0.8616 - val_loss: 3.2662 - val_categorical_accuracy: 0.4365\n",
      "Epoch 47/50\n",
      "7560/7560 [==============================] - 12s 2ms/sample - loss: 0.3616 - categorical_accuracy: 0.8820 - val_loss: 3.1087 - val_categorical_accuracy: 0.4429\n",
      "Epoch 48/50\n"
     ]
    },
    {
     "name": "stdout",
     "output_type": "stream",
     "text": [
      "7560/7560 [==============================] - 12s 2ms/sample - loss: 0.3605 - categorical_accuracy: 0.8869 - val_loss: 3.0604 - val_categorical_accuracy: 0.4513\n",
      "Epoch 49/50\n",
      "7560/7560 [==============================] - 12s 2ms/sample - loss: 0.3249 - categorical_accuracy: 0.8943 - val_loss: 3.2076 - val_categorical_accuracy: 0.4476\n",
      "Epoch 50/50\n",
      "7560/7560 [==============================] - 12s 2ms/sample - loss: 0.3116 - categorical_accuracy: 0.9007 - val_loss: 3.3209 - val_categorical_accuracy: 0.4349\n"
     ]
    }
   ],
   "source": [
    "# Train\n",
    "results = model.fit(x=X, y=y, \n",
    "              batch_size=batch_size, \n",
    "              epochs=epochs, \n",
    "              validation_split=0.2, \n",
    "              shuffle=True)"
   ]
  },
  {
   "cell_type": "code",
   "execution_count": 9,
   "metadata": {},
   "outputs": [],
   "source": [
    "# Save model\n",
    "model.save('./my_model')"
   ]
  },
  {
   "cell_type": "code",
   "execution_count": 11,
   "metadata": {},
   "outputs": [
    {
     "name": "stdout",
     "output_type": "stream",
     "text": [
      "9450/9450 [==============================] - 6s 623us/sample - loss: 3.3177 - categorical_accuracy: 0.4426\n"
     ]
    }
   ],
   "source": [
    "# Diese Zelle muss von mir ausgeführt werden können!\n",
    "# Es müssen mindestens loss und categorical_accuracy angezeigt werden\n",
    "\n",
    "model = keras.models.load_model('./my_model')\n",
    "with np.load('./test.npz') as f:\n",
    "    X_test = f['X']\n",
    "    y_test = keras.utils.to_categorical(f['y'])\n",
    "results = model.evaluate(X_test, y_test, batch_size=32)"
   ]
  },
  {
   "cell_type": "code",
   "execution_count": null,
   "metadata": {},
   "outputs": [],
   "source": []
  }
 ],
 "metadata": {
  "kernelspec": {
   "display_name": "Python 3",
   "language": "python",
   "name": "python3"
  },
  "language_info": {
   "codemirror_mode": {
    "name": "ipython",
    "version": 3
   },
   "file_extension": ".py",
   "mimetype": "text/x-python",
   "name": "python",
   "nbconvert_exporter": "python",
   "pygments_lexer": "ipython3",
   "version": "3.6.9"
  }
 },
 "nbformat": 4,
 "nbformat_minor": 2
}
